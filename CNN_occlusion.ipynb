{
  "nbformat": 4,
  "nbformat_minor": 0,
  "metadata": {
    "colab": {
      "name": "CNN_occlusion.ipynb",
      "provenance": [],
      "authorship_tag": "ABX9TyMyuJYHOp5eXJvH6CyDLS5K",
      "include_colab_link": true
    },
    "kernelspec": {
      "name": "python3",
      "display_name": "Python 3"
    },
    "language_info": {
      "name": "python"
    },
    "accelerator": "GPU"
  },
  "cells": [
    {
      "cell_type": "markdown",
      "metadata": {
        "id": "view-in-github",
        "colab_type": "text"
      },
      "source": [
        "<a href=\"https://colab.research.google.com/github/himanshunaidu/cnn_analysis/blob/master/CNN_occlusion.ipynb\" target=\"_parent\"><img src=\"https://colab.research.google.com/assets/colab-badge.svg\" alt=\"Open In Colab\"/></a>"
      ]
    },
    {
      "cell_type": "code",
      "metadata": {
        "id": "HN4GFBu2s2FR"
      },
      "source": [
        "import os\n",
        "import tensorflow as tf\n",
        "import numpy as np\n",
        "import math\n",
        "from PIL import Image, ImageOps\n",
        "import matplotlib.pyplot as plt\n",
        "from sklearn.metrics import confusion_matrix\n",
        "from tensorflow.keras.layers import Input, Conv2D, Dense, Flatten, Dropout, MaxPool2D, LeakyReLU, Flatten, Dense, BatchNormalization\n",
        "from tensorflow.keras.models import Model\n",
        "from tensorflow.keras.applications import xception\n",
        "from tensorflow.keras.preprocessing.image import ImageDataGenerator\n",
        "import tensorflow.keras.backend as kb\n",
        "import matplotlib.pyplot as plt\n",
        "import seaborn as sns"
      ],
      "execution_count": null,
      "outputs": []
    },
    {
      "cell_type": "code",
      "metadata": {
        "colab": {
          "base_uri": "https://localhost:8080/"
        },
        "id": "k3tAFf_Utopg",
        "outputId": "1809ea02-19ff-4f2f-ef62-13b5a0e9ae17"
      },
      "source": [
        "print(tf.__version__)"
      ],
      "execution_count": null,
      "outputs": [
        {
          "output_type": "stream",
          "text": [
            "2.5.0\n"
          ],
          "name": "stdout"
        }
      ]
    },
    {
      "cell_type": "code",
      "metadata": {
        "colab": {
          "base_uri": "https://localhost:8080/"
        },
        "id": "kkgBvrS5LFn7",
        "outputId": "38e287dc-b3ca-4756-ae1d-3e1f01fe0462"
      },
      "source": [
        "from google.colab import drive\n",
        "drive.mount('/content/gdrive', force_remount=True)"
      ],
      "execution_count": null,
      "outputs": [
        {
          "output_type": "stream",
          "text": [
            "Mounted at /content/gdrive\n"
          ],
          "name": "stdout"
        }
      ]
    },
    {
      "cell_type": "code",
      "metadata": {
        "id": "n56xd7rALPIk"
      },
      "source": [
        "cnn_saver = 'gdrive/My Drive/Colab Notebooks/CNN_Analysis/Model'\n",
        "cnn_loader = 'gdrive/My Drive/Colab Notebooks/CNN_Analysis/Model'"
      ],
      "execution_count": null,
      "outputs": []
    },
    {
      "cell_type": "code",
      "metadata": {
        "id": "WEU51hGKLPKK"
      },
      "source": [
        ""
      ],
      "execution_count": null,
      "outputs": []
    },
    {
      "cell_type": "code",
      "metadata": {
        "id": "JkYJOEStLPNj"
      },
      "source": [
        ""
      ],
      "execution_count": null,
      "outputs": []
    },
    {
      "cell_type": "markdown",
      "metadata": {
        "id": "n7W4X75TvDVV"
      },
      "source": [
        "# Get the Data"
      ]
    },
    {
      "cell_type": "code",
      "metadata": {
        "id": "gMg2Mrvftrc1"
      },
      "source": [
        "cifar10 = tf.keras.datasets.cifar10"
      ],
      "execution_count": null,
      "outputs": []
    },
    {
      "cell_type": "code",
      "metadata": {
        "id": "OM_AnYBotrg_"
      },
      "source": [
        "(X_train, y_train), (X_test, y_test) = cifar10.load_data()"
      ],
      "execution_count": null,
      "outputs": []
    },
    {
      "cell_type": "code",
      "metadata": {
        "colab": {
          "base_uri": "https://localhost:8080/"
        },
        "id": "pFJyUv20ui7l",
        "outputId": "52d57c3f-4034-42e9-f0e7-64a030690667"
      },
      "source": [
        "# print(X_train.shape, y_train.shape)\n",
        "x_shape = X_train[0].shape\n",
        "print(x_shape)"
      ],
      "execution_count": null,
      "outputs": [
        {
          "output_type": "stream",
          "text": [
            "(32, 32, 3)\n"
          ],
          "name": "stdout"
        }
      ]
    },
    {
      "cell_type": "code",
      "metadata": {
        "id": "pgEk85s2ui9w"
      },
      "source": [
        "y_train, y_test = y_train.flatten(), y_test.flatten()"
      ],
      "execution_count": null,
      "outputs": []
    },
    {
      "cell_type": "markdown",
      "metadata": {
        "id": "SGVXh3vPvGmD"
      },
      "source": [
        "# Create the Network"
      ]
    },
    {
      "cell_type": "code",
      "metadata": {
        "id": "EjCgFLhtvIWR"
      },
      "source": [
        "#For padding\n",
        "def plus_one_pad(tensor, mode):\n",
        "    return tf.pad(tensor, [[0, 0], [1, 1], [1, 1], [0, 0]], mode)\n",
        "\n",
        "#For initialization\n",
        "def initializer(length):\n",
        "    return tf.keras.initializers.RandomNormal(mean=0.0, stddev=1.0) #1/math.sqrt(length/2))"
      ],
      "execution_count": null,
      "outputs": []
    },
    {
      "cell_type": "code",
      "metadata": {
        "id": "SMBh7UCevIYc"
      },
      "source": [
        "alpha = 0.15\n",
        "\n",
        "#Network\n",
        "def createNetwork():\n",
        "    i = Input(shape=(x_shape[0], x_shape[1], x_shape[2]))\n",
        "    x = Conv2D(32, (9, 9), padding='same', activation=LeakyReLU(alpha=alpha), kernel_initializer=initializer(3*3))(i)\n",
        "    x = BatchNormalization()(x)\n",
        "    x = Conv2D(32, (3, 3), padding='same', activation=LeakyReLU(alpha=alpha), kernel_initializer=initializer(3*3))(x)\n",
        "    x = BatchNormalization()(x)\n",
        "    x = MaxPool2D((2, 2))(x)\n",
        "\n",
        "    # print(x)\n",
        "    x = Conv2D(64, (3, 3), padding='same', activation=LeakyReLU(alpha=alpha), kernel_initializer=initializer(3*3))(x)\n",
        "    x = BatchNormalization()(x)\n",
        "    x = Conv2D(64, (3, 3), padding='same', activation=LeakyReLU(alpha=alpha), kernel_initializer=initializer(3*3))(x)\n",
        "    x = BatchNormalization()(x)\n",
        "    x = MaxPool2D((2, 2))(x)\n",
        "\n",
        "    # print(x)\n",
        "    x = Conv2D(128, (3, 3), padding='same', activation=LeakyReLU(alpha=alpha), kernel_initializer=initializer(3*3))(x)\n",
        "    x = BatchNormalization()(x)\n",
        "    x = Conv2D(128, (3, 3), padding='same', activation=LeakyReLU(alpha=alpha), kernel_initializer=initializer(3*3))(x)\n",
        "    x = BatchNormalization()(x)\n",
        "    x = MaxPool2D((2, 2))(x)\n",
        "\n",
        "    # print(x)\n",
        "    x = Flatten()(x)\n",
        "    # x = Dense(2048, activation=LeakyReLU(alpha=0.3))(x) #2304 = 12x12x64/4\n",
        "    x = Dropout(0.3)(x)\n",
        "    x = Dense(1024, activation=LeakyReLU(alpha=0.3))(x)\n",
        "    x = Dropout(0.3)(x)\n",
        "    x = Dense(10, activation='softmax')(x)\n",
        "\n",
        "    # print(x)\n",
        "    model = Model(i, x)\n",
        "    return model"
      ],
      "execution_count": null,
      "outputs": []
    },
    {
      "cell_type": "code",
      "metadata": {
        "id": "pZ4rzmA9vIa3"
      },
      "source": [
        "def custom_loss(y_true, y_pred):\n",
        "    scce = tf.keras.losses.SparseCategoricalCrossentropy()\n",
        "    loss = scce(y_true, y_pred)\n",
        "\n",
        "    for index in range(len(y_true)):\n",
        "        if y_true[index][0]==3:\n",
        "            loss_1 = abs(1-y_pred[index][3])\n",
        "            loss = loss + loss_1\n",
        "    return loss"
      ],
      "execution_count": null,
      "outputs": []
    },
    {
      "cell_type": "code",
      "metadata": {
        "colab": {
          "base_uri": "https://localhost:8080/"
        },
        "id": "hxRcpgPGxxeu",
        "outputId": "14272301-c1c8-47be-c5ee-b09016f4468e"
      },
      "source": [
        "model = createNetwork()\n",
        "model.compile(optimizer='adam',loss=custom_loss,metrics=['accuracy'])\n",
        "\n",
        "print(model.summary())"
      ],
      "execution_count": null,
      "outputs": [
        {
          "output_type": "stream",
          "text": [
            "Model: \"model_1\"\n",
            "_________________________________________________________________\n",
            "Layer (type)                 Output Shape              Param #   \n",
            "=================================================================\n",
            "input_2 (InputLayer)         [(None, 32, 32, 3)]       0         \n",
            "_________________________________________________________________\n",
            "conv2d_6 (Conv2D)            (None, 32, 32, 32)        7808      \n",
            "_________________________________________________________________\n",
            "batch_normalization_6 (Batch (None, 32, 32, 32)        128       \n",
            "_________________________________________________________________\n",
            "conv2d_7 (Conv2D)            (None, 32, 32, 32)        9248      \n",
            "_________________________________________________________________\n",
            "batch_normalization_7 (Batch (None, 32, 32, 32)        128       \n",
            "_________________________________________________________________\n",
            "max_pooling2d_3 (MaxPooling2 (None, 16, 16, 32)        0         \n",
            "_________________________________________________________________\n",
            "conv2d_8 (Conv2D)            (None, 16, 16, 64)        18496     \n",
            "_________________________________________________________________\n",
            "batch_normalization_8 (Batch (None, 16, 16, 64)        256       \n",
            "_________________________________________________________________\n",
            "conv2d_9 (Conv2D)            (None, 16, 16, 64)        36928     \n",
            "_________________________________________________________________\n",
            "batch_normalization_9 (Batch (None, 16, 16, 64)        256       \n",
            "_________________________________________________________________\n",
            "max_pooling2d_4 (MaxPooling2 (None, 8, 8, 64)          0         \n",
            "_________________________________________________________________\n",
            "conv2d_10 (Conv2D)           (None, 8, 8, 128)         73856     \n",
            "_________________________________________________________________\n",
            "batch_normalization_10 (Batc (None, 8, 8, 128)         512       \n",
            "_________________________________________________________________\n",
            "conv2d_11 (Conv2D)           (None, 8, 8, 128)         147584    \n",
            "_________________________________________________________________\n",
            "batch_normalization_11 (Batc (None, 8, 8, 128)         512       \n",
            "_________________________________________________________________\n",
            "max_pooling2d_5 (MaxPooling2 (None, 4, 4, 128)         0         \n",
            "_________________________________________________________________\n",
            "flatten_1 (Flatten)          (None, 2048)              0         \n",
            "_________________________________________________________________\n",
            "dropout_2 (Dropout)          (None, 2048)              0         \n",
            "_________________________________________________________________\n",
            "dense_2 (Dense)              (None, 1024)              2098176   \n",
            "_________________________________________________________________\n",
            "dropout_3 (Dropout)          (None, 1024)              0         \n",
            "_________________________________________________________________\n",
            "dense_3 (Dense)              (None, 10)                10250     \n",
            "=================================================================\n",
            "Total params: 2,404,138\n",
            "Trainable params: 2,403,242\n",
            "Non-trainable params: 896\n",
            "_________________________________________________________________\n",
            "None\n"
          ],
          "name": "stdout"
        }
      ]
    },
    {
      "cell_type": "code",
      "metadata": {
        "colab": {
          "base_uri": "https://localhost:8080/"
        },
        "id": "BJ5iANfurxI_",
        "outputId": "58a95b75-93b4-4300-903c-00bd7b2c577c"
      },
      "source": [
        "model.load_weights(cnn_loader)"
      ],
      "execution_count": null,
      "outputs": [
        {
          "output_type": "execute_result",
          "data": {
            "text/plain": [
              "<tensorflow.python.training.tracking.util.CheckpointLoadStatus at 0x7f3c72df2990>"
            ]
          },
          "metadata": {
            "tags": []
          },
          "execution_count": 67
        }
      ]
    },
    {
      "cell_type": "code",
      "metadata": {
        "id": "wTRa_4Pfxxji"
      },
      "source": [
        "r = model.fit(X_train, y_train, validation_data=(X_test, y_test), epochs=50) "
      ],
      "execution_count": null,
      "outputs": []
    },
    {
      "cell_type": "code",
      "metadata": {
        "id": "5nIAv7zmLlI3"
      },
      "source": [
        "cp_callback = tf.keras.callbacks.ModelCheckpoint(filepath=cnn_saver, save_weights_only=True, verbose=1)\n",
        "datagen = ImageDataGenerator(width_shift_range=0.2,  height_shift_range=0.2, horizontal_flip=True, fill_mode='constant')\n",
        "batch_size = 32\n",
        "steps_per_epoch = X_train.shape[0]//batch_size\n",
        "traingen = datagen.flow(X_train, y_train, batch_size)\n",
        "r = model.fit_generator(traingen, steps_per_epoch=steps_per_epoch, epochs=50, validation_data=(X_test, y_test), callbacks=[cp_callback])"
      ],
      "execution_count": null,
      "outputs": []
    },
    {
      "cell_type": "code",
      "metadata": {
        "id": "F02GJ2utfGcs"
      },
      "source": [
        "# r = model.fit_generator(traingen, steps_per_epoch=steps_per_epoch, epochs=50, validation_data=(X_test, y_test), callbacks=[cp_callback])"
      ],
      "execution_count": null,
      "outputs": []
    },
    {
      "cell_type": "code",
      "metadata": {
        "id": "E-aTnt2d6j1r",
        "colab": {
          "base_uri": "https://localhost:8080/"
        },
        "outputId": "b570514c-0501-4910-89d3-25d412fdd16f"
      },
      "source": [
        "layer = model.layers[1]\n",
        "weights = np.array(layer.get_weights()[0])\n",
        "print(len(model.layers))"
      ],
      "execution_count": null,
      "outputs": [
        {
          "output_type": "stream",
          "text": [
            "21\n"
          ],
          "name": "stdout"
        }
      ]
    },
    {
      "cell_type": "code",
      "metadata": {
        "colab": {
          "base_uri": "https://localhost:8080/"
        },
        "id": "XPxQQfQZ6j7E",
        "outputId": "b171069f-a5fe-4710-e9a7-4a4c06de64d3"
      },
      "source": [
        "# print(weights.shape)\n",
        "for i in range(len(model.layers)):\n",
        "  layer = model.layers[i]\n",
        "  if len(layer.get_weights())>0:\n",
        "    print(np.array(layer.get_weights()[0]).shape)"
      ],
      "execution_count": null,
      "outputs": [
        {
          "output_type": "stream",
          "text": [
            "(9, 9, 3, 32)\n",
            "(32,)\n",
            "(3, 3, 32, 32)\n",
            "(32,)\n",
            "(3, 3, 32, 64)\n",
            "(64,)\n",
            "(3, 3, 64, 64)\n",
            "(64,)\n",
            "(3, 3, 64, 128)\n",
            "(128,)\n",
            "(3, 3, 128, 128)\n",
            "(128,)\n",
            "(2048, 1024)\n",
            "(1024, 10)\n"
          ],
          "name": "stdout"
        }
      ]
    },
    {
      "cell_type": "code",
      "metadata": {
        "colab": {
          "base_uri": "https://localhost:8080/",
          "height": 256
        },
        "id": "ZqfCqJRP6kEW",
        "outputId": "8cbe8608-aeb7-4361-aa70-3c5862c0fa20"
      },
      "source": [
        "from sklearn import preprocessing\n",
        "fig, axs = plt.subplots(4, 8)\n",
        "# weights.shape[3]\n",
        "plt.axis('off')\n",
        "rows = 4\n",
        "cols = 8\n",
        "row = 0\n",
        "col = 0\n",
        "for i in range(weights.shape[3]):\n",
        "  v = weights[:,:,0,i]\n",
        "  v_min = v.min(axis=(0, 1), keepdims=True)\n",
        "  v_max = v.max(axis=(0, 1), keepdims=True)\n",
        "  v = (v - v_min)/(v_max - v_min)\n",
        "  axs[row, col].imshow(v)\n",
        "  row = row + (col+1)//cols\n",
        "  col = (col+1)%cols\n",
        "plt.show()"
      ],
      "execution_count": null,
      "outputs": [
        {
          "output_type": "display_data",
          "data": {
            "image/png": "[encoded data removed]",
            "text/plain": [
              "<Figure size 432x288 with 32 Axes>"
            ]
          },
          "metadata": {
            "tags": [],
            "needs_background": "light"
          }
        }
      ]
    },
    {
      "cell_type": "code",
      "metadata": {
        "colab": {
          "base_uri": "https://localhost:8080/"
        },
        "id": "LSkEJRUJGIo4",
        "outputId": "d193d13f-66b3-4625-b67b-74fffe26b9e3"
      },
      "source": [
        "# plt.imshow(X_train[0])\n",
        "pred = model.predict(x=X_train[0:1]).argmax()\n",
        "print(pred, y_train[0])"
      ],
      "execution_count": null,
      "outputs": [
        {
          "output_type": "stream",
          "text": [
            "6 6\n"
          ],
          "name": "stdout"
        }
      ]
    },
    {
      "cell_type": "code",
      "metadata": {
        "id": "6KzzVIPeFw7u"
      },
      "source": [
        "def occlusion(model, image, label, occ_size = 50, occ_stride = 50, occ_pixel = 0.5):\n",
        "  \n",
        "    #get the width and height of the image\n",
        "    width, height = image.shape[0], image.shape[1]\n",
        "  \n",
        "    #setting the output image width and height\n",
        "    output_height = int(np.ceil((height-occ_size)/occ_stride))\n",
        "    output_width = int(np.ceil((width-occ_size)/occ_stride))\n",
        "  \n",
        "    #create a white image of sizes we defined\n",
        "    heatmap = np.zeros((output_height, output_width))\n",
        "    \n",
        "    #iterate all the pixels in each column\n",
        "    for h in range(0, height):\n",
        "        for w in range(0, width):\n",
        "            \n",
        "            h_start = h*occ_stride\n",
        "            w_start = w*occ_stride\n",
        "            h_end = min(height, h_start + occ_size)\n",
        "            w_end = min(width, w_start + occ_size)\n",
        "            \n",
        "            if (w_end) >= width or (h_end) >= height:\n",
        "                continue\n",
        "            \n",
        "            # input_image = image.clone().detach()\n",
        "            input_image = np.copy(image)\n",
        "            \n",
        "            #replacing all the pixel information in the image with occ_pixel(grey) in the specified location\n",
        "            input_image[w_start:w_end, h_start:h_end] = occ_pixel\n",
        "            \n",
        "            #run inference on modified image\n",
        "            # output = model(input_image)\n",
        "            # output = nn.functional.softmax(output, dim=1)\n",
        "            # prob = output.tolist()[0][label]\n",
        "            prob = model.predict(x=np.array([input_image]))[0,label]\n",
        "            \n",
        "            #setting the heatmap location to probability value\n",
        "            # print(prob)\n",
        "            heatmap[h, w] = prob \n",
        "\n",
        "    return heatmap"
      ],
      "execution_count": null,
      "outputs": []
    },
    {
      "cell_type": "code",
      "metadata": {
        "id": "oqFrppCuJQEZ"
      },
      "source": [
        "def checkHeatmap(image, label, occ_size, occ_stride):\n",
        "  heatmap = occlusion(model, image, label, occ_size, occ_stride)\n",
        "  print(heatmap.shape)\n",
        "  imgplot = sns.heatmap(heatmap, xticklabels=False, yticklabels=False)\n",
        "  figure = imgplot.get_figure()"
      ],
      "execution_count": null,
      "outputs": []
    },
    {
      "cell_type": "code",
      "metadata": {
        "colab": {
          "base_uri": "https://localhost:8080/"
        },
        "id": "SusKs66uLqsd",
        "outputId": "69ba2d14-24ad-4717-d772-eaedcb5f1c98"
      },
      "source": [
        "print(model.predict(x=np.array([X_train[4]])).argmax())\n",
        "print(y_train[4])"
      ],
      "execution_count": null,
      "outputs": [
        {
          "output_type": "stream",
          "text": [
            "1\n",
            "1\n"
          ],
          "name": "stdout"
        }
      ]
    },
    {
      "cell_type": "code",
      "metadata": {
        "colab": {
          "base_uri": "https://localhost:8080/"
        },
        "id": "nqfW5uHkM9MO",
        "outputId": "39e33886-e4ce-45b0-f267-8698b0e8a28b"
      },
      "source": [
        "checkHeatmap(X_train[1], y_train[1], 9, 1)"
      ],
      "execution_count": null,
      "outputs": [
        {
          "output_type": "stream",
          "text": [
            "(23, 23)\n"
          ],
          "name": "stdout"
        },
        {
          "output_type": "display_data",
          "data": {
            "image/png": "[encoded data removed]",
            "text/plain": [
              "<Figure size 432x288 with 2 Axes>"
            ]
          },
          "metadata": {
            "tags": [],
            "needs_background": "light"
          }
        }
      ]
    },
    {
      "cell_type": "code",
      "metadata": {
        "colab": {
          "base_uri": "https://localhost:8080/",
          "height": 283
        },
        "id": "do5S0LHTNYp0",
        "outputId": "6d47f32a-7a65-4693-e25e-9fdabc61e509"
      },
      "source": [
        "plt.imshow(X_train[1])"
      ],
      "execution_count": null,
      "outputs": [
        {
          "output_type": "execute_result",
          "data": {
            "text/plain": [
              "<matplotlib.image.AxesImage at 0x7f3d04788a50>"
            ]
          },
          "metadata": {
            "tags": []
          },
          "execution_count": 110
        },
        {
          "output_type": "display_data",
          "data": {
            "image/png": "[encoded data removed]",
            "text/plain": [
              "<Figure size 432x288 with 1 Axes>"
            ]
          },
          "metadata": {
            "tags": [],
            "needs_background": "light"
          }
        }
      ]
    }
  ]
}